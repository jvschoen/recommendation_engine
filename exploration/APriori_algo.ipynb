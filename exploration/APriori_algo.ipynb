{
 "cells": [
  {
   "cell_type": "markdown",
   "metadata": {},
   "source": [
    "# Overview"
   ]
  },
  {
   "cell_type": "markdown",
   "metadata": {},
   "source": [
    "This notebook runs the a priori algorithm to build out a recomendation list based on lift associated with items being purchased together."
   ]
  },
  {
   "cell_type": "markdown",
   "metadata": {},
   "source": [
    "# Setup"
   ]
  },
  {
   "cell_type": "code",
   "execution_count": 1,
   "metadata": {},
   "outputs": [],
   "source": [
    "import pandas as pd\n",
    "import numpy as np"
   ]
  },
  {
   "cell_type": "markdown",
   "metadata": {},
   "source": [
    "You will first need to download this dataset:\n",
    "https://www.kaggle.com/carrie1/ecommerce-data?select=data.csv and update the filepath below."
   ]
  },
  {
   "cell_type": "code",
   "execution_count": 2,
   "metadata": {},
   "outputs": [],
   "source": [
    "DATA_FILEPATH = '../data/retail_txn_data_demo.csv'\n",
    "KEEP_COLS = ['InvoiceNo', 'StockCode']"
   ]
  },
  {
   "cell_type": "markdown",
   "metadata": {},
   "source": [
    "# Functions"
   ]
  },
  {
   "cell_type": "markdown",
   "metadata": {},
   "source": [
    "## Data Structures"
   ]
  },
  {
   "cell_type": "markdown",
   "metadata": {},
   "source": [
    "These data structures are used for book keeping so we can store the item associations in a matrtix.\n",
    "\n",
    "The index map maps an item id to it's position in a sorted list index"
   ]
  },
  {
   "cell_type": "code",
   "execution_count": 3,
   "metadata": {},
   "outputs": [],
   "source": [
    "def get_index_map(df_):\n",
    "    # make a map for item number: base_0_index to make matrix\n",
    "    index_map = {\n",
    "    row['item']: idx for idx, row in (\n",
    "        df_\n",
    "        .sort_values('item')\n",
    "        .item.drop_duplicates()\n",
    "        .reset_index()\n",
    "        .iterrows()\n",
    "        )\n",
    "    }\n",
    "    return index_map"
   ]
  },
  {
   "cell_type": "markdown",
   "metadata": {},
   "source": [
    "The item array stores unique product ids in an array where the index matches the value in the above dictionary."
   ]
  },
  {
   "cell_type": "code",
   "execution_count": 4,
   "metadata": {},
   "outputs": [],
   "source": [
    "def get_item_array(df_):\n",
    "    item_array = (\n",
    "        df_\n",
    "        .sort_values('item')\n",
    "        .item\n",
    "        .drop_duplicates()\n",
    "        .values\n",
    "    )\n",
    "    return item_array"
   ]
  },
  {
   "cell_type": "markdown",
   "metadata": {},
   "source": [
    "Get an array of lists where each element of outer array is an order, and inner lists represent the items in the order"
   ]
  },
  {
   "cell_type": "code",
   "execution_count": 5,
   "metadata": {},
   "outputs": [],
   "source": [
    "def get_orders_array(df_):\n",
    "    orders = (\n",
    "        df_\n",
    "        .sort_values('item')\n",
    "        .groupby('invoice')\n",
    "        .agg({'item': list})\n",
    "    ).values\n",
    "    return orders"
   ]
  },
  {
   "cell_type": "markdown",
   "metadata": {},
   "source": [
    "## Support\n",
    "Support refers to the **popularity of item** and can be calculated by finding the number of transactions containing a particular item divided by the total number of transactions:  \n",
    "$$Support(A) = (Transactions containing (A))/(Total Transactions)$$"
   ]
  },
  {
   "cell_type": "code",
   "execution_count": 6,
   "metadata": {},
   "outputs": [],
   "source": [
    "def get_support_df(df_):\n",
    "    total_invoices = df_.invoice.nunique()\n",
    "    support = (\n",
    "        df_\n",
    "        .groupby('item')\n",
    "        # Count number of different invoices that this item appears\n",
    "        .count()\n",
    "        .rename(columns={'invoice': 'n_invoices'})\n",
    "        .assign(support=lambda x: x.n_invoices/total_invoices)\n",
    "    )\n",
    "    return support"
   ]
  },
  {
   "cell_type": "markdown",
   "metadata": {},
   "source": [
    "## Association Matrix\n",
    "To store number of orders where each item pair appears together"
   ]
  },
  {
   "cell_type": "markdown",
   "metadata": {},
   "source": [
    "Make a dictionary that has a key being tuple for matrix coordinates and value being the frequency of association. "
   ]
  },
  {
   "cell_type": "code",
   "execution_count": 7,
   "metadata": {},
   "outputs": [],
   "source": [
    "def make_association_dict(orders_, index_map_):\n",
    "    \n",
    "    combination_counts = {}\n",
    "    #iterate through array \n",
    "    for order in orders_:\n",
    "        # get the item list from the order\n",
    "        order = order[0]\n",
    "\n",
    "        # keep popping items from front of item list until empty\n",
    "        # popping ensures we don't duplicate combinations as we\n",
    "        # iterate through the list of items\n",
    "        while len(order) > 0:\n",
    "            item_num = order.pop()\n",
    "            item_index = index_map_[item_num]\n",
    "            \n",
    "            # self association\n",
    "            # This will tell us how many total orders the item appears\n",
    "            # in different orders. It will be our diagonal in the \n",
    "            # association matrix\n",
    "            self_item_set = (item_index, item_index)\n",
    "            if self_item_set in combination_counts.keys():\n",
    "                combination_counts[self_item_set] += 1\n",
    "            else:\n",
    "                combination_counts[self_item_set] = 1\n",
    "            \n",
    "            # Association with all other items in order\n",
    "            for other_item in order:\n",
    "                other_item_index = index_map_[other_item]\n",
    "                item_set = (item_index, other_item_index)\n",
    "                if item_set in combination_counts.keys():\n",
    "                    combination_counts[item_set] += 1\n",
    "                else:\n",
    "                    combination_counts[item_set] = 1\n",
    "                    \n",
    "    return combination_counts"
   ]
  },
  {
   "cell_type": "markdown",
   "metadata": {},
   "source": [
    "Make association matrix with proportions of orders where each item is ordered together "
   ]
  },
  {
   "cell_type": "code",
   "execution_count": 8,
   "metadata": {},
   "outputs": [],
   "source": [
    "def make_assocation_matrix(item_array_, association_dict_):\n",
    "    association_matrix = np.ndarray(shape=(item_array.shape[0], item_array.shape[0]))\n",
    "    # fill matrix with count of orders where items appear together in same order.\n",
    "    for key, value in combination_counts.items():\n",
    "        association_matrix[key[0], key[1]] = value\n",
    "    return association_matrix"
   ]
  },
  {
   "cell_type": "markdown",
   "metadata": {},
   "source": [
    "## Confidence\n",
    "Confidence refers to the **likelihood that an item B is also bought if item A is bought**. It can be calculated by finding the number of transactions where A and B are bought together, divided by the total number of transactions where A is bought:  \n",
    "$$Confidence(A → B) = (Transactions containing both (A and B))/(Transactions containing A)$$\n",
    "\n",
    "Confidence is similar to Naive Based Algorithm."
   ]
  },
  {
   "cell_type": "markdown",
   "metadata": {},
   "source": [
    "Fill a **confidence matrix** where each index pair reports the _confidence_"
   ]
  },
  {
   "cell_type": "code",
   "execution_count": 9,
   "metadata": {
    "scrolled": false
   },
   "outputs": [],
   "source": [
    "# Convert this to more of a linear alg approach instead of iterating. \n",
    "# Should just divide matrix by a 1D array with order counts\n",
    "def make_confidence_matrix(association_matrix_):    \n",
    "    confidence_matrix = np.ndarray(shape=association_matrix_.shape)\n",
    "    for i in range(association_matrix_.shape[0]):\n",
    "        for j in range(association_matrix_.shape[1]):\n",
    "            confidence_matrix[i, j] = association_matrix_[i, j] / association_matrix_[i, i]\n",
    "    return confidence_matrix"
   ]
  },
  {
   "cell_type": "markdown",
   "metadata": {},
   "source": [
    "# Lift"
   ]
  },
  {
   "cell_type": "markdown",
   "metadata": {},
   "source": [
    "Lift refers to the increase in the ratio of the sale of B when A is sold.  \n",
    "Lift(A –> B) can be calculated by dividing Confidence(A -> B) divided by Support(B).  \n",
    "Mathematically it can be represented as:  \n",
    "Lift(A→B) = (Confidence (A→B))/(Support (B))"
   ]
  },
  {
   "cell_type": "code",
   "execution_count": 10,
   "metadata": {},
   "outputs": [],
   "source": [
    "def make_lift_matrix(confidence_matrix_, item_array_, df_support_):\n",
    "    lift_matrix = np.ndarray(shape=confidence_matrix_.shape)\n",
    "    for item_index in range(confidence_matrix_.shape[0]):\n",
    "        item = item_array_[item_index]\n",
    "        item_support = df_support_.loc[item]['support']\n",
    "        lift_matrix[item_index] = confidence_matrix[item_index] / item_support\n",
    "    return lift_matrix"
   ]
  },
  {
   "cell_type": "markdown",
   "metadata": {},
   "source": [
    "## Utils"
   ]
  },
  {
   "cell_type": "markdown",
   "metadata": {},
   "source": [
    "Used to get the top n recommendations given an item id"
   ]
  },
  {
   "cell_type": "code",
   "execution_count": 11,
   "metadata": {},
   "outputs": [],
   "source": [
    "def get_top_n(item_id, matrix_, item_index_map_, item_array, n=10, omit_self=True):\n",
    "    item_index = item_index_map_[item_id]\n",
    "    if omit_self:\n",
    "        top_n = matrix_[item_index].argsort()[::-1][1:n+1]\n",
    "    else:\n",
    "        top_n = matrix_[item_index].argsort()[::-1][:n]\n",
    "        \n",
    "    top_n_list = []\n",
    "    for other_item_index in top_n:\n",
    "        top_n_list.append(\n",
    "            {item_array[other_item_index]: matrix_[item_index, other_item_index]})\n",
    "    return top_n_list"
   ]
  },
  {
   "cell_type": "markdown",
   "metadata": {},
   "source": [
    "# Running"
   ]
  },
  {
   "cell_type": "markdown",
   "metadata": {},
   "source": [
    "Get Data"
   ]
  },
  {
   "cell_type": "code",
   "execution_count": 12,
   "metadata": {},
   "outputs": [
    {
     "data": {
      "text/html": [
       "<div>\n",
       "<style scoped>\n",
       "    .dataframe tbody tr th:only-of-type {\n",
       "        vertical-align: middle;\n",
       "    }\n",
       "\n",
       "    .dataframe tbody tr th {\n",
       "        vertical-align: top;\n",
       "    }\n",
       "\n",
       "    .dataframe thead th {\n",
       "        text-align: right;\n",
       "    }\n",
       "</style>\n",
       "<table border=\"1\" class=\"dataframe\">\n",
       "  <thead>\n",
       "    <tr style=\"text-align: right;\">\n",
       "      <th></th>\n",
       "      <th>invoice</th>\n",
       "      <th>item</th>\n",
       "    </tr>\n",
       "  </thead>\n",
       "  <tbody>\n",
       "    <tr>\n",
       "      <th>0</th>\n",
       "      <td>536365</td>\n",
       "      <td>85123A</td>\n",
       "    </tr>\n",
       "    <tr>\n",
       "      <th>1</th>\n",
       "      <td>536365</td>\n",
       "      <td>71053</td>\n",
       "    </tr>\n",
       "    <tr>\n",
       "      <th>2</th>\n",
       "      <td>536365</td>\n",
       "      <td>84406B</td>\n",
       "    </tr>\n",
       "    <tr>\n",
       "      <th>3</th>\n",
       "      <td>536365</td>\n",
       "      <td>84029G</td>\n",
       "    </tr>\n",
       "    <tr>\n",
       "      <th>4</th>\n",
       "      <td>536365</td>\n",
       "      <td>84029E</td>\n",
       "    </tr>\n",
       "  </tbody>\n",
       "</table>\n",
       "</div>"
      ],
      "text/plain": [
       "  invoice    item\n",
       "0  536365  85123A\n",
       "1  536365   71053\n",
       "2  536365  84406B\n",
       "3  536365  84029G\n",
       "4  536365  84029E"
      ]
     },
     "execution_count": 12,
     "metadata": {},
     "output_type": "execute_result"
    }
   ],
   "source": [
    "df = (\n",
    "    pd.read_csv(DATA_FILEPATH, encoding= 'unicode_escape')\n",
    "    .filter(KEEP_COLS)\n",
    "    .rename(columns={'InvoiceNo': 'invoice', 'StockCode': 'item'})\n",
    ")\n",
    "df.head()"
   ]
  },
  {
   "cell_type": "markdown",
   "metadata": {},
   "source": [
    "Get **Support** "
   ]
  },
  {
   "cell_type": "code",
   "execution_count": 13,
   "metadata": {
    "scrolled": true
   },
   "outputs": [
    {
     "data": {
      "text/html": [
       "<div>\n",
       "<style scoped>\n",
       "    .dataframe tbody tr th:only-of-type {\n",
       "        vertical-align: middle;\n",
       "    }\n",
       "\n",
       "    .dataframe tbody tr th {\n",
       "        vertical-align: top;\n",
       "    }\n",
       "\n",
       "    .dataframe thead th {\n",
       "        text-align: right;\n",
       "    }\n",
       "</style>\n",
       "<table border=\"1\" class=\"dataframe\">\n",
       "  <thead>\n",
       "    <tr style=\"text-align: right;\">\n",
       "      <th></th>\n",
       "      <th>n_invoices</th>\n",
       "      <th>support</th>\n",
       "    </tr>\n",
       "    <tr>\n",
       "      <th>item</th>\n",
       "      <th></th>\n",
       "      <th></th>\n",
       "    </tr>\n",
       "  </thead>\n",
       "  <tbody>\n",
       "    <tr>\n",
       "      <th>10002</th>\n",
       "      <td>73</td>\n",
       "      <td>0.002819</td>\n",
       "    </tr>\n",
       "    <tr>\n",
       "      <th>10080</th>\n",
       "      <td>24</td>\n",
       "      <td>0.000927</td>\n",
       "    </tr>\n",
       "    <tr>\n",
       "      <th>10120</th>\n",
       "      <td>30</td>\n",
       "      <td>0.001158</td>\n",
       "    </tr>\n",
       "    <tr>\n",
       "      <th>10123C</th>\n",
       "      <td>4</td>\n",
       "      <td>0.000154</td>\n",
       "    </tr>\n",
       "    <tr>\n",
       "      <th>10123G</th>\n",
       "      <td>1</td>\n",
       "      <td>0.000039</td>\n",
       "    </tr>\n",
       "  </tbody>\n",
       "</table>\n",
       "</div>"
      ],
      "text/plain": [
       "        n_invoices   support\n",
       "item                        \n",
       "10002           73  0.002819\n",
       "10080           24  0.000927\n",
       "10120           30  0.001158\n",
       "10123C           4  0.000154\n",
       "10123G           1  0.000039"
      ]
     },
     "execution_count": 13,
     "metadata": {},
     "output_type": "execute_result"
    }
   ],
   "source": [
    "df_support = get_support_df(df)\n",
    "df_support.head()"
   ]
  },
  {
   "cell_type": "markdown",
   "metadata": {},
   "source": [
    "Get the reference data structures"
   ]
  },
  {
   "cell_type": "code",
   "execution_count": 14,
   "metadata": {},
   "outputs": [
    {
     "name": "stdout",
     "output_type": "stream",
     "text": [
      "4070 4070\n"
     ]
    }
   ],
   "source": [
    "index_map = get_index_map(df)\n",
    "item_array = get_item_array(df)\n",
    "print(len(index_map), len(item_array))"
   ]
  },
  {
   "cell_type": "markdown",
   "metadata": {},
   "source": [
    "Get orders in a simpler data format: array orders containing lists of items in the order"
   ]
  },
  {
   "cell_type": "code",
   "execution_count": 15,
   "metadata": {},
   "outputs": [
    {
     "name": "stdout",
     "output_type": "stream",
     "text": [
      "(25900, 1)\n"
     ]
    },
    {
     "data": {
      "text/plain": [
       "array([[list(['21730', '22752', '71053', '84029E', '84029G', '84406B', '85123A'])],\n",
       "       [list(['22632', '22633'])],\n",
       "       [list(['21754', '21755', '21777', '22310', '22622', '22623', '22745', '22748', '22749', '48187', '84879', '84969'])],\n",
       "       [list(['22912', '22913', '22914', '22960'])],\n",
       "       [list(['21756'])]], dtype=object)"
      ]
     },
     "execution_count": 15,
     "metadata": {},
     "output_type": "execute_result"
    }
   ],
   "source": [
    "orders = get_orders_array(df)\n",
    "print(orders.shape)\n",
    "orders[0:5]"
   ]
  },
  {
   "cell_type": "markdown",
   "metadata": {},
   "source": [
    "Make the matrices to calculate association counts and confidence"
   ]
  },
  {
   "cell_type": "code",
   "execution_count": 16,
   "metadata": {},
   "outputs": [
    {
     "name": "stdout",
     "output_type": "stream",
     "text": [
      "3755646\n",
      "(4070, 4070)\n",
      "(4070, 4070)\n"
     ]
    }
   ],
   "source": [
    "combination_counts = make_association_dict(orders, index_map)\n",
    "print(len(combination_counts))\n",
    "association_matrix = make_assocation_matrix(item_array, combination_counts)\n",
    "print(association_matrix.shape)\n",
    "confidence_matrix = make_confidence_matrix(association_matrix)\n",
    "print(confidence_matrix.shape)"
   ]
  },
  {
   "cell_type": "markdown",
   "metadata": {},
   "source": [
    "Check top n items using confidence. This shows the proportion of orders which have both the item in question and the paired item"
   ]
  },
  {
   "cell_type": "code",
   "execution_count": 17,
   "metadata": {},
   "outputs": [
    {
     "data": {
      "text/plain": [
       "[{'21733': 0.21877619446772842},\n",
       " {'85099B': 0.17812238055322716},\n",
       " {'22457': 0.17812238055322716},\n",
       " {'47566': 0.17141659681475271},\n",
       " {'22469': 0.1697401508801341},\n",
       " {'82482': 0.16303436714165967},\n",
       " {'22423': 0.15884325230511315},\n",
       " {'22804': 0.15590947191953058},\n",
       " {'22470': 0.15171835708298406},\n",
       " {'20725': 0.14752724224643754}]"
      ]
     },
     "execution_count": 17,
     "metadata": {},
     "output_type": "execute_result"
    }
   ],
   "source": [
    "test_item_index = 3536\n",
    "test_item = \"85123A\"\n",
    "\n",
    "get_top_n(test_item, confidence_matrix, index_map, item_array, n=10)"
   ]
  },
  {
   "cell_type": "code",
   "execution_count": 18,
   "metadata": {},
   "outputs": [],
   "source": [
    "lift_matrix = make_lift_matrix(confidence_matrix, item_array, df_support)"
   ]
  },
  {
   "cell_type": "code",
   "execution_count": 19,
   "metadata": {},
   "outputs": [
    {
     "data": {
      "text/plain": [
       "[{'21733': 2.44976369940085},\n",
       " {'85099B': 1.9945394104317267},\n",
       " {'22457': 1.9945394104317267},\n",
       " {'47566': 1.9194508679213556},\n",
       " {'22469': 1.9006787322937628},\n",
       " {'82482': 1.825590189783392},\n",
       " {'22423': 1.7786598507144102},\n",
       " {'22804': 1.745808613366123},\n",
       " {'22470': 1.6988782742971411},\n",
       " {'20725': 1.6519479352281592}]"
      ]
     },
     "execution_count": 19,
     "metadata": {},
     "output_type": "execute_result"
    }
   ],
   "source": [
    "get_top_n(test_item, lift_matrix, index_map, item_array, n=10)"
   ]
  },
  {
   "cell_type": "markdown",
   "metadata": {},
   "source": [
    "# References"
   ]
  },
  {
   "cell_type": "markdown",
   "metadata": {},
   "source": [
    "https://medium.com/@deepak6446/apriori-algorithm-in-python-recommendation-engine-5ba89bd1a6da"
   ]
  },
  {
   "cell_type": "code",
   "execution_count": null,
   "metadata": {},
   "outputs": [],
   "source": []
  }
 ],
 "metadata": {
  "kernelspec": {
   "display_name": "Python 3",
   "language": "python",
   "name": "python3"
  },
  "language_info": {
   "codemirror_mode": {
    "name": "ipython",
    "version": 3
   },
   "file_extension": ".py",
   "mimetype": "text/x-python",
   "name": "python",
   "nbconvert_exporter": "python",
   "pygments_lexer": "ipython3",
   "version": "3.7.6"
  }
 },
 "nbformat": 4,
 "nbformat_minor": 4
}
